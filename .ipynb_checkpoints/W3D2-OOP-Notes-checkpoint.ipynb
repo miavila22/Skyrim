{
 "cells": [
  {
   "cell_type": "markdown",
   "metadata": {},
   "source": [
    "# Object-Oriented-Programming (OOP)"
   ]
  },
  {
   "cell_type": "markdown",
   "metadata": {},
   "source": [
    "## Tasks Today:\n",
    "\n",
    "   \n",
    "\n",
    "1) <b>Creating a Class (Initializing/Declaring)</b> <br>\n",
    "2) <b>Using a Class (Instantiating)</b> <br>\n",
    " &nbsp;&nbsp;&nbsp;&nbsp; a) Creating One Instance <br>\n",
    " &nbsp;&nbsp;&nbsp;&nbsp; b) Creating Multiple Instances <br>\n",
    " &nbsp;&nbsp;&nbsp;&nbsp; c) In-Class Exercise #1 - Create a Class 'Car' and instantiate three different makes of cars <br>\n",
    "3) <b>The \\__init\\__() Method</b> <br>\n",
    " &nbsp;&nbsp;&nbsp;&nbsp; a) The 'self' Attribute <br>\n",
    "4) <b>Class Attributes</b> <br>\n",
    " &nbsp;&nbsp;&nbsp;&nbsp; a) Initializing Attributes <br>\n",
    " &nbsp;&nbsp;&nbsp;&nbsp; b) Setting an Attribute Outside of the \\__init\\__() Method <br>\n",
    " &nbsp;&nbsp;&nbsp;&nbsp; c) Setting Defaults for Attributes <br>\n",
    " &nbsp;&nbsp;&nbsp;&nbsp; d) Accessing Class Attributes <br>\n",
    " &nbsp;&nbsp;&nbsp;&nbsp; e) Changing Class Attributes <br>\n",
    " &nbsp;&nbsp;&nbsp;&nbsp; f) In-Class Exercise #2 - Add a color and wheels attribute to your 'Car' class <br>\n",
    "5) <b>Class Methods</b> <br>\n",
    " &nbsp;&nbsp;&nbsp;&nbsp; a) Creating <br>\n",
    " &nbsp;&nbsp;&nbsp;&nbsp; b) Calling <br>\n",
    " &nbsp;&nbsp;&nbsp;&nbsp; c) Modifying an Attribute's Value Through a Method <br>\n",
    " &nbsp;&nbsp;&nbsp;&nbsp; d) Incrementing an Attribute's Value Through a Method <br>\n",
    " &nbsp;&nbsp;&nbsp;&nbsp; e) In-Class Exercise #3 - Add a method that prints the cars color and wheel number, then call them <br>\n",
    "6) <b>Inheritance</b> <br>\n",
    " &nbsp;&nbsp;&nbsp;&nbsp; a) Syntax for Inheriting from a Parent Class <br>\n",
    " &nbsp;&nbsp;&nbsp;&nbsp; b) The \\__init\\__() Method for a Child Class (super()) <br>\n",
    " &nbsp;&nbsp;&nbsp;&nbsp; c) Defining Attributes and Methods for the Child Class <br>\n",
    " &nbsp;&nbsp;&nbsp;&nbsp; d) Method Overriding <br>\n",
    " &nbsp;&nbsp;&nbsp;&nbsp; e) In-Class Exercise #4 - Create a class 'Ford' that inherits from 'Car' class and initialize it as a Blue Ford Explorer with 4 wheels using the super() method <br>\n",
    "7) <b>Classes as Attributes</b> <br>\n",
    "8) <b>Exercises</b> <br>\n",
    " &nbsp;&nbsp;&nbsp;&nbsp; a) Exercise #1 - Turn the shopping cart program from last week into an object-oriented program <br>"
   ]
  },
  {
   "cell_type": "markdown",
   "metadata": {},
   "source": [
    "## Creating a Class (Initializing/Declaring)\n",
    "<p>When creating a class, function, or even a variable you are initializing that object. Initializing and Declaring occur at the same time in Python, whereas in lower level languages you have to declare an object before initializing it. This is the first step in the process of using a class.</p>"
   ]
  },
  {
   "cell_type": "code",
   "execution_count": null,
   "metadata": {},
   "outputs": [],
   "source": [
    "#keyword and all class names will start with a capital letter\n",
    "#Blue Print\n",
    "#Consistent attribute or constant attribute\n",
    "class Transformers():\n",
    "    extremities = 4 \n",
    "    color = \"black\""
   ]
  },
  {
   "cell_type": "code",
   "execution_count": null,
   "metadata": {},
   "outputs": [],
   "source": [
    "#blue print for soup:\n",
    "\n",
    "class Vegan:\n",
    "    broth = \"vegetable\"\n",
    "    protein = \"lentils\"\n",
    "    vegetables = [\"carrots\", \"bok choy\", \"onions\", \"green sprouts\"]\n",
    "    tasty_flavors_juices = [\"lime\", \"ginger\"]\n",
    "    "
   ]
  },
  {
   "cell_type": "code",
   "execution_count": null,
   "metadata": {},
   "outputs": [],
   "source": []
  },
  {
   "cell_type": "markdown",
   "metadata": {},
   "source": [
    "## Using a Class (Instantiating)\n",
    "<p>The process of creating a class is called <i>Instantiating</i>. Each time you create a variable of that type of class, it is referred to as an <i>Instance</i> of that class. This is the second step in the process of using a class.</p>"
   ]
  },
  {
   "cell_type": "markdown",
   "metadata": {},
   "source": [
    "##### Creating One Instance"
   ]
  },
  {
   "cell_type": "code",
   "execution_count": null,
   "metadata": {},
   "outputs": [],
   "source": [
    "decepticon = Transformers()\n",
    "\n",
    "print(decepticon.extremities)\n",
    "print(decepticon.color)"
   ]
  },
  {
   "cell_type": "markdown",
   "metadata": {},
   "source": [
    "##### Creating Multiple Instances"
   ]
  },
  {
   "cell_type": "code",
   "execution_count": null,
   "metadata": {},
   "outputs": [],
   "source": [
    "autobots = Transformers()\n",
    "print(autobots.extremities)\n",
    "neutrals = Transformers()\n",
    "print(neutrals.color)\n",
    "#class can be whatever name. Ex in class was beatup_car_down_the_street. print(beatup_car_down_the_street.wheels) came out to 4 since wheels = 4.\n",
    "\n"
   ]
  },
  {
   "cell_type": "markdown",
   "metadata": {},
   "source": [
    "##### In-Class Exercise #1 - Create a Class 'Car' and Instantiate three different makes of cars"
   ]
  },
  {
   "cell_type": "code",
   "execution_count": null,
   "metadata": {},
   "outputs": [],
   "source": [
    "class Transformer():\n",
    "    extremities = 4\n",
    "    color = \"blue\"\n",
    "    life = \"allspark\"\n",
    "    \n",
    "    "
   ]
  },
  {
   "cell_type": "code",
   "execution_count": null,
   "metadata": {},
   "outputs": [],
   "source": [
    "cyclonus = Transformer()\n",
    "print(cyclonus.color)\n",
    "optimus = Transformer()\n",
    "print(optimus.life)\n",
    "nemesis_prime = Transformer()\n",
    "print(nemesis_prime.extremities)"
   ]
  },
  {
   "cell_type": "code",
   "execution_count": null,
   "metadata": {},
   "outputs": [],
   "source": []
  },
  {
   "cell_type": "code",
   "execution_count": null,
   "metadata": {},
   "outputs": [],
   "source": []
  },
  {
   "cell_type": "markdown",
   "metadata": {},
   "source": [
    "## The \\__init\\__() Method <br>\n",
    "<p>This method is used in almost every created class, and called only once upon the creation of the class instance. This method will initialize all variables needed for the object.</p>"
   ]
  },
  {
   "cell_type": "code",
   "execution_count": null,
   "metadata": {},
   "outputs": [],
   "source": [
    "def do_something(): #global independent function \"living on your own\" \n",
    "    pass\n",
    "#a method is a function that lives inside of a class. \"hang out with parents.\"\n",
    "\n",
    "class Car():\n",
    "    #init is always going to take the parameter of \"self\" referring back to self, other parameters are attributes.  \n",
    "    #init allows attributes to be unique and specific. It is not constant. You can add different. \n",
    "    def __init__(self, wheels, color, doors):\n",
    "        self.wheels = wheels\n",
    "        self.color = color\n",
    "        self.doors = doors\n",
    "#mazda refers back to \"self\"\n",
    "mazda = Car(4, \"blue\", 4)\n",
    "print(mazda.wheels)\n",
    "print(mazda.color)\n",
    "print(mazda.doors)\n",
    "\n"
   ]
  },
  {
   "cell_type": "markdown",
   "metadata": {},
   "source": [
    "##### The 'self' Attribute <br>\n",
    "<p>This attribute is required to keep track of specific instance's attributes. Without the self attribute, the program would not know how to reference or keep track of an instance's attributes.</p>"
   ]
  },
  {
   "cell_type": "code",
   "execution_count": null,
   "metadata": {},
   "outputs": [],
   "source": [
    "class User():\n",
    "    def __init__(self, username, password, email):\n",
    "        print(\"Creating user info...\")\n",
    "        self.username = username\n",
    "        self.password = password\n",
    "        self.email = email\n",
    "        print(\"user info created, great job!\")\n",
    "        \n",
    "user1 = User(\"coolguy13\", 'scoobydoo3!', \"coolguy@aol.com\")\n",
    "\n",
    "user2 = User(\"poketrainer4\", \"pikachu!34\", \"jeb@hotmail.com\")\n",
    "\n",
    "user3 = User(\"optimus66\", \"autobots54\", \"rollout@msn.com\")\n",
    "\n",
    "print(\"\\n\")\n",
    "\n",
    "print(user1.username)\n",
    "print(user2.username)\n",
    "print(user3.username)\n"
   ]
  },
  {
   "cell_type": "markdown",
   "metadata": {},
   "source": [
    "## Class Attributes <br>\n",
    "<p>While variables are inside of a class, they are referred to as attributes and not variables. When someone says 'attribute' you know they're speaking about a class. Attributes can be initialized through the init method, or outside of it.</p>"
   ]
  },
  {
   "cell_type": "markdown",
   "metadata": {},
   "source": [
    "##### Initializing Attributes"
   ]
  },
  {
   "cell_type": "code",
   "execution_count": null,
   "metadata": {},
   "outputs": [],
   "source": [
    "class Pokemon():\n",
    "    def __init__ (self, name, type_):\n",
    "        self.name = name\n",
    "        self.type_ = type_\n",
    "bulbasaur = Pokemon(\"bulbasaur\", \"grass, poison\")\n",
    "# help(bulbasaur)\n",
    "\n",
    "# dir(bulbasaur)\n",
    "\n",
    "    "
   ]
  },
  {
   "cell_type": "markdown",
   "metadata": {},
   "source": [
    "##### Accessing Class Attributes"
   ]
  },
  {
   "cell_type": "code",
   "execution_count": null,
   "metadata": {
    "scrolled": true
   },
   "outputs": [],
   "source": [
    "bulbasaur = Pokemon(\"bulbasaur\", \"grass, poison\")\n",
    "print(bulbasaur.name.title())\n",
    "print(bulbasaur.type_)\n",
    "# do the .__dict__ thing\n",
    "\n",
    "print(bulbasaur.__dict__)\n",
    "\n",
    "bulba_dict = bulbasaur.__dict__\n",
    "print(bulba_dict)"
   ]
  },
  {
   "cell_type": "markdown",
   "metadata": {},
   "source": [
    "##### Setting Defaults for Attributes"
   ]
  },
  {
   "cell_type": "code",
   "execution_count": null,
   "metadata": {},
   "outputs": [],
   "source": [
    "class Car():\n",
    "    def __init__(self, wheels, color = \"red\"):\n",
    "        self.wheels = wheels\n",
    "        self.color = color\n",
    "\n",
    "pontiac = Car(4,\"white\")\n",
    "print(pontiac.color)\n",
    "saturn = Car(4)\n",
    "print(saturn.color)"
   ]
  },
  {
   "cell_type": "code",
   "execution_count": null,
   "metadata": {},
   "outputs": [],
   "source": [
    "class Car():\n",
    "    def __init__(self, doors):\n",
    "        self.doors = doors\n",
    "        self.color = \"blue\"\n",
    "\n",
    "mercury = Car(5)\n",
    "print(mercury.color)\n",
    "print(mercury.doors)\n",
    "\n",
    "uranus = Car(4)\n"
   ]
  },
  {
   "cell_type": "code",
   "execution_count": null,
   "metadata": {},
   "outputs": [],
   "source": []
  },
  {
   "cell_type": "markdown",
   "metadata": {},
   "source": [
    "##### Changing Class Attributes <br>\n",
    "<p>Keep in mind there are global class attributes and then there are attributes only available to each class instance which won't effect other classes.</p>"
   ]
  },
  {
   "cell_type": "code",
   "execution_count": null,
   "metadata": {},
   "outputs": [],
   "source": [
    "chevy = Car(4)\n",
    "print(f\"Before color change: {chevy.color}\")\n",
    "chevy.color =\"yellow\"\n",
    "print(f\"after color change: {chevy.color}\")\n",
    "\n",
    "print(f\"before altering door: {chevy.doors}\")\n",
    "chevy.doors = 6\n",
    "print(f\"after altering doors: {chevy.doors}\")\n"
   ]
  },
  {
   "cell_type": "code",
   "execution_count": null,
   "metadata": {},
   "outputs": [],
   "source": []
  },
  {
   "cell_type": "code",
   "execution_count": null,
   "metadata": {},
   "outputs": [],
   "source": []
  },
  {
   "cell_type": "markdown",
   "metadata": {},
   "source": [
    "##### In-Class Exercise #2 - Add two new attributes to your 'Car' class then print out two different instances with different doors and seats. Then take that bad boy to the shop and change those attributes. Either with an input or just by changing them"
   ]
  },
  {
   "cell_type": "code",
   "execution_count": null,
   "metadata": {},
   "outputs": [],
   "source": [
    "class Car():\n",
    "    def __init__(self, paint, doors, seats):\n",
    "        self.paint = \"green\"\n",
    "        self.doors = 5\n",
    "        self.seats = 2\n",
    "\n",
    "toyota = Car (\"green\", 5, 2)\n",
    "print(toyota.paint, toyota.doors, toyota.seats)\n",
    "toyota.color = \"Black\"\n",
    "toyota.seats = 4\n",
    "\n",
    "print(f\"after altering color: {toyota.color} and new seats: {toyota.seats}\")\n",
    "\n",
    "\n",
    "\n",
    "    "
   ]
  },
  {
   "cell_type": "markdown",
   "metadata": {},
   "source": [
    "## Class Methods <br>\n",
    "<p>While inside of a class, functions are referred to as 'methods'. If you hear someone mention methods, they're speaking about classes. Methods are essentially functions, but only callable on the instances of a class.</p>"
   ]
  },
  {
   "cell_type": "markdown",
   "metadata": {},
   "source": [
    "##### Creating"
   ]
  },
  {
   "cell_type": "code",
   "execution_count": 4,
   "metadata": {},
   "outputs": [
    {
     "name": "stdout",
     "output_type": "stream",
     "text": [
      "This Chevy Model has 4 doors and 5 seats\n"
     ]
    }
   ],
   "source": [
    "class Car():\n",
    "    def __init__(self, doors, seats, make, model):\n",
    "        self.doors = doors\n",
    "        self.seats = seats\n",
    "        self.make = make\n",
    "        self.model = model\n",
    "        \n",
    "    def print_info(self):\n",
    "        print(f\"This {self.make} {self.model} has {self.doors} doors and {self.seats} seats\")\n",
    "\n",
    "lumina = Car(4, 5, \"Chevy\", \"Model\")\n",
    "lumina.print_info() #make sure you use parentheses\n",
    "\n"
   ]
  },
  {
   "cell_type": "code",
   "execution_count": null,
   "metadata": {},
   "outputs": [],
   "source": [
    "class Bus ():\n",
    "    \"\"\"\n",
    "    The bus will have doors, seats, seats, available, color, and a bus driver\n",
    "    Attributes for the bus:\n",
    "    -doors: integer\n",
    "    -seats: integer\n",
    "    -seats_availble: interger\n",
    "    -color: string\n",
    "    -bus_driver:  string\n",
    "    \"\"\"\n",
    "    def __init__(self, doors, seats, seats_available, color, bus_driver):\n",
    "        self.doors = doors\n",
    "        self.seats = seats\n",
    "        self.seats_available = seats_available\n",
    "        self.color = color\n",
    "        self.bus_driver = bus_driver\n",
    "\n",
    "#       decrementing the number of seats available\n",
    "    def load_passengers(self):\n",
    "        if self.seats_available <= 0:\n",
    "            print(\"The bus is full! You can't take anymore passengers!\")\n",
    "            if self.seats_available < 0:\n",
    "                print(f\"You have {abs(self.seats_available)} people by the road\")\n",
    "        else:\n",
    "            passengers = int(input(\"How many passengers are getting on?\"))\n",
    "            self.seats_available -= passengers\n",
    "            if self.seats_available < 0:\n",
    "                print(f\"you have {abs(seats.available)} by the road!\")\n",
    "                self.seats_available = 0\n",
    "\n",
    "#       incrementing the number of seats available\n",
    "    def unload_passengers(self):\n",
    "        if self.seats_available >= self.seats:\n",
    "            print(\"There is no one on the bus to unload!\")\n",
    "        else:\n",
    "            unload = int(input(\"How many passengers are getting off the bus?\"))\n",
    "            self.seats_available =+ unload\n",
    "            if self.seats_available >= self.seats:\n",
    "                self.seats_available = self.seats\n",
    "            print(f\"{unload} passengers have left the bus. There are {self.seats_available} seats left.\")\n",
    "\n",
    "#         Change bus driver\n",
    "    def change_driver(self):\n",
    "        change = input(\"Who is replacing you?\")\n",
    "        self.bus_driver = change\n",
    "        print(f\"The new bus driver is {self.bus_driver}. Be sure to thank them!\")\n",
    "\n",
    "#     display the number of seats\n",
    "    def check_seats(self):\n",
    "        print(f\"There are {self.seats_available} seats available\")\n",
    "\n",
    "#    display the bus color\n",
    "    def admire_bus(self):\n",
    "        print(f\"Would you just look at it! Would you just look at the beautiful {self.color} bus! But would you just look at it.\")\n",
    "                  \n",
    "        "
   ]
  },
  {
   "cell_type": "code",
   "execution_count": null,
   "metadata": {},
   "outputs": [],
   "source": []
  },
  {
   "cell_type": "markdown",
   "metadata": {},
   "source": [
    "##### Calling"
   ]
  },
  {
   "cell_type": "code",
   "execution_count": null,
   "metadata": {},
   "outputs": [],
   "source": [
    "def run():\n",
    "    mig_bus= Bus(2, 90, 45, \"Yellow\", \"Miguel\")\n",
    "\n",
    "    while True:\n",
    "        response= input(\"What would like to do? Load/Unload/Change Driver/Check Seats/Admire Bus/Exit\").lower()\n",
    "        if response == \"exit\":\n",
    "            print(\"OH NO! There are still passengers to be picked up. Please don't leave them!\")\n",
    "            break\n",
    "        elif response == \"load\":\n",
    "            mig_bus.load_passengers()\n",
    "        elif response == \"unload\":\n",
    "            mig_bus.unload_passengers()\n",
    "        elif response == \"change driver\":\n",
    "            mig_bus.change_driver()\n",
    "        elif response == \"check seats\":\n",
    "            mig_bus.check_seats()\n",
    "        elif response == \"admire bus\":\n",
    "            mig_bus.admire_bus()\n",
    "        else:\n",
    "            print(\"Please enter a valid, bus-related response\")\n",
    "\n",
    "run()"
   ]
  },
  {
   "cell_type": "markdown",
   "metadata": {},
   "source": [
    "##### Modifying an Attribute's Value Through a Method"
   ]
  },
  {
   "cell_type": "code",
   "execution_count": null,
   "metadata": {},
   "outputs": [],
   "source": [
    "# see above\n",
    "# load_passengers()\n",
    "# unload_passengers()\n",
    "# change_driver()"
   ]
  },
  {
   "cell_type": "markdown",
   "metadata": {},
   "source": [
    "##### Incrementing an Attribute's Value Through a Method"
   ]
  },
  {
   "cell_type": "code",
   "execution_count": null,
   "metadata": {},
   "outputs": [],
   "source": [
    "#unload_passengers()"
   ]
  },
  {
   "cell_type": "markdown",
   "metadata": {},
   "source": [
    "##### In-Class Exercise #3 - Add a method that takes in three parameters of year, doors and seats and prints out a formatted print statement with make, model, year, seats, and doors"
   ]
  },
  {
   "cell_type": "code",
   "execution_count": 5,
   "metadata": {},
   "outputs": [],
   "source": [
    "# Create class with 2 paramters inside of the __init__ which are make and model, more if you'd like\n",
    "\n",
    "# Create two methods for your class\n",
    "\n",
    "# Create a method that alters an attribute for your class\n",
    "\n",
    "# Display method that prints information about the vehicle\n",
    "\n",
    "# Output: This car is from 2019 and is a Ford Expolorer and has 4 doors and 5 seats\n",
    "\n",
    "# reminder in order to call class methods object.method()\n",
    "\n",
    "\n"
   ]
  },
  {
   "cell_type": "markdown",
   "metadata": {},
   "source": [
    "## Inheritance <br>\n",
    "<p>You can create a child-parent relationship between two classes by using inheritance. What this allows you to do is have overriding methods, but also inherit traits from the parent class. Think of it as an actual parent and child, the child will inherit the parent's genes, as will the classes in OOP</p>"
   ]
  },
  {
   "cell_type": "markdown",
   "metadata": {},
   "source": [
    "##### Syntax for Inheriting from a Parent Class"
   ]
  },
  {
   "cell_type": "code",
   "execution_count": 14,
   "metadata": {},
   "outputs": [],
   "source": [
    "class Animal:\n",
    "    acceleration = 9.8\n",
    "    def __init__(self, name, species, legs=4):\n",
    "        self.name = name\n",
    "        self.species = species\n",
    "        self.legs = legs\n",
    "       \n",
    "    def make_sound(self):\n",
    "        print(\"REEEEEE\")\n",
    "\n",
    "class Platypus(Animal):\n",
    "    speed = 15\n",
    "    def __init__ (self,name, species, legs = 4):\n",
    "        super().__init__(name,species,legs)\n",
    "        #super does this. \"down arrow\"\n",
    "        # self.name = name\n",
    "        # self.species = species\n",
    "        # self.legs = legs\n",
    "    def print_info(self):\n",
    "        print(f\"{self.name} runs as {self.speed}mph and accelerates at {self.acceleration} mp^2\")\n",
    "\n",
    "#       grandchild class\n",
    "class Duck(Platypus):\n",
    "    color = \"scarlett\"\n",
    "    def __ini__ (self, name, species, eye_color, legs = 4):\n",
    "        Platypus.__init__(self, name, species, legs)\n",
    "        self.eye_color = eye_color\n",
    "\n",
    "#    override a parent methond is possible\n",
    "    def make_sound(self):\n",
    "        print(\"SCCCCCCREEEEEEECCCCCHHHHHH\")\n",
    "    \n",
    "\n",
    "    "
   ]
  },
  {
   "cell_type": "code",
   "execution_count": 21,
   "metadata": {},
   "outputs": [
    {
     "name": "stdout",
     "output_type": "stream",
     "text": [
      "9.8\n",
      "Cheetor\n",
      "REEEEEE\n",
      "Shadow\n",
      "4\n",
      "9.8\n",
      "15\n",
      "REEEEEE\n",
      "Shadow runs as 15mph and accelerates at 9.8 mp^2\n",
      "SCCCCCCREEEEEEECCCCCHHHHHH\n",
      "9.8\n",
      "15\n"
     ]
    }
   ],
   "source": [
    "cheetah = Animal(\"Cheetor\", \"cheetah\")\n",
    "print(cheetah.acceleration)\n",
    "print(cheetah.name)\n",
    "cheetah.make_sound()\n",
    "\n",
    "golden= Platypus(\"Shadow\", \"dog\", 4)\n",
    "print(golden.name)\n",
    "print(golden.legs)\n",
    "print(golden.acceleration)\n",
    "print(golden.speed)\n",
    "golden.make_sound()\n",
    "golden.print_info()\n",
    "\n",
    "Psyduck = Duck(\"Psyiyi\", \"pokemon\", \"scarlett\")\n",
    "Psyduck.make_sound()\n",
    "print(Psyduck.acceleration)\n",
    "print(Psyduck.speed)"
   ]
  },
  {
   "cell_type": "markdown",
   "metadata": {},
   "source": [
    "##### The \\__init\\__() Method for a Child Class - super()"
   ]
  },
  {
   "cell_type": "code",
   "execution_count": null,
   "metadata": {
    "scrolled": true
   },
   "outputs": [],
   "source": []
  },
  {
   "cell_type": "markdown",
   "metadata": {},
   "source": [
    "##### Defining Attributes and Methods for the Child Class"
   ]
  },
  {
   "cell_type": "code",
   "execution_count": null,
   "metadata": {},
   "outputs": [],
   "source": [
    "# See Above"
   ]
  },
  {
   "cell_type": "markdown",
   "metadata": {},
   "source": [
    "##### Method Overriding"
   ]
  },
  {
   "cell_type": "code",
   "execution_count": null,
   "metadata": {},
   "outputs": [],
   "source": [
    "# See Above"
   ]
  },
  {
   "cell_type": "markdown",
   "metadata": {},
   "source": [
    "## Classes as Attributes <br>\n",
    "<p>Classes can also be used as attributes within another class. This is useful in situations where you need to keep variables locally stored, instead of globally stored.</p>"
   ]
  },
  {
   "cell_type": "code",
   "execution_count": 28,
   "metadata": {},
   "outputs": [
    {
     "name": "stdout",
     "output_type": "stream",
     "text": [
      "2022 Telsa Model Y 20 cells\n"
     ]
    }
   ],
   "source": [
    "class Battery():\n",
    "    VOLTZ = 7.8\n",
    "    def __init__(self, cells):\n",
    "        self.cells = cells\n",
    "\n",
    "class Car():\n",
    "    def __init__(self, year, make, model, battery):\n",
    "        self.year = year\n",
    "        self.make = make\n",
    "        self.model = model\n",
    "        self.battery = battery\n",
    "\n",
    "    def print_info(self):\n",
    "        print(f\"{self.year} {self.make} {self.model} {self.battery} cells\")\n",
    "\n",
    "batt = Battery(20)\n",
    "\n",
    "tesla = Car(2022, \"Telsa\", \"Model Y\", batt.cells)\n",
    "tesla.print_info()\n"
   ]
  },
  {
   "cell_type": "markdown",
   "metadata": {},
   "source": [
    "## Classes as Attributes <br>"
   ]
  },
  {
   "cell_type": "markdown",
   "metadata": {},
   "source": [
    "<b>Generators in classes</b>"
   ]
  },
  {
   "cell_type": "code",
   "execution_count": null,
   "metadata": {},
   "outputs": [],
   "source": []
  },
  {
   "cell_type": "markdown",
   "metadata": {},
   "source": [
    "# Exercises"
   ]
  },
  {
   "cell_type": "markdown",
   "metadata": {},
   "source": [
    "### Exercise 1 - Turn the shopping cart program from last week into an object-oriented program\n",
    "\n",
    "The comments in the cell below are there as a guide for thinking about the problem. However, if you feel a different way is best for you and your own thought process, please do what feels best for you by all means."
   ]
  },
  {
   "cell_type": "code",
   "execution_count": 6,
   "metadata": {},
   "outputs": [
    {
     "name": "stdout",
     "output_type": "stream",
     "text": [
      "Choose your character type:\n",
      "1. Nightblade\n",
      "2. Barbarian\n",
      "3. Quit Game\n"
     ]
    },
    {
     "name": "stdin",
     "output_type": "stream",
     "text": [
      "Enter the number of your choice:  2\n"
     ]
    },
    {
     "data": {
      "text/plain": [
       "2"
      ]
     },
     "execution_count": 6,
     "metadata": {},
     "output_type": "execute_result"
    }
   ],
   "source": [
    "# Create a class called cart that retains items and has methods to add, remove, and show\n",
    "#Exercise 1 Option 2 - Create A Video Game Character Class using Object-Oriented Programming\n",
    "#The character class should have the following attributes: character type (i.e. ogre, human, elf, etc), health points, attack points, weapons (list or dict). \n",
    "#The class should also have the following methods to deplete health points, regain health points, add or remove weapons, and show character stats.\n",
    "\n",
    "class Player_character:\n",
    "    def __init__(self, class_type, health_points, attack_points, weapons):\n",
    "        self.class_type = class_type\n",
    "        self.health_points = health_points\n",
    "        self.attack_points = attack_points \n",
    "        self.weapons = weapons or []\n",
    "\n",
    "    def deplete_health(self, damage):\n",
    "        print(\"AHHHHHHHH!\")\n",
    "        self.health_points -= damage\n",
    "        #possible if statements here? Can't have damage go below 0 since that's impossible in any game. \n",
    "    def regain_health(self, healing):\n",
    "        print(\"I've got the power!\")\n",
    "        self.health_points += healing\n",
    "   \n",
    "    def add_weapon(self, weapon):\n",
    "        print(\"Look what I found!\")\n",
    "        self.weapons.add(weapon)\n",
    "        #if statements here?\n",
    "    def remove_weapon(self,weapon):\n",
    "        print(\"Get this out of my inventory.\")\n",
    "        if weapon in self.weapons:\n",
    "            self.weapons.remove(weapon)\n",
    "   \n",
    "    def stats(self):\n",
    "    #print all attributes since they want to see the stats?\n",
    "        print(f\"I am {self.class_type} with {self.health_points}, {self.attack_points} and come with this {self.weapons}\")\n",
    "\n",
    "#try to replicate the parent->child class so make options for the user. Parent folder = Player_character. Have to def __init__ but dont\n",
    "# put character type for child classes.\n",
    "\n",
    "class Nightblade(Player_character):\n",
    "    def __init__(self, health_points, attack_points, weapons, spell=None):\n",
    "        super().__init__(\"Nightblade\", health_points, attack_points, weapons)\n",
    "        self.ability = ability\n",
    "        \n",
    "    def spell(self):\n",
    "        print(f\"I, the Nightblade cast: {self.ability}\")\n",
    "        \n",
    "class Barbarian(Player_character):\n",
    "    def __init__(self, health_points, attack_points, weapons, shout=None):\n",
    "        super().__init__(\"Barbarian\", health_points, attack_points, weapons)\n",
    "        self.ability = ability\n",
    "\n",
    "    def shout(self):\n",
    "        print(f\"I, the Barbarian, shout: {self.shout} to scare the enemy or power up!\")\n",
    "\n",
    "#menu to start the \"run\"\n",
    "\n",
    "def pick_your_character():\n",
    "    print(\"Choose your character type:\")\n",
    "    print(\"1. Nightblade\")\n",
    "    print(\"2. Barbarian\")\n",
    "    print(\"3. Quit Game\")\n",
    "    \n",
    "    choice = input(\"Enter the number of your choice:   \")\n",
    "    return int(choice)\n",
    "\n",
    "\n",
    "def menu():\n",
    "    #refer back to previous function so pick_your_character (health_points, attack_points, weapons, +spell or shout)\n",
    "    class_choice = pick_your_character()\n",
    "\n",
    "    if class_choice == 1:\n",
    "        player = Nightblade(75, 35, [\"Daedric Bow\", \"Ebony Sword\"], \"Invisibility\")\n",
    "    \n",
    "    elif class_choice == 2:\n",
    "        player = Barbarian(100, 25, [\"Sword\", \"Shield\"], \"FUS RO DAH\")\n",
    "    elif class_choice == 3:\n",
    "        print(\"Quit\")\n",
    "        return\n",
    "\n",
    "    print(\"Hey you. You're finally awake.\")\n",
    "\n",
    "#this is running but now the next part\n",
    "\n",
    "# while loop just like the bus\n",
    "\n",
    "    # while True:\n",
    "    #     response = input(\"What would you like to do? Show: Class/Damage/Heal/Add Weapon/Remove Weapon/Stats/Quit\").lower()\n",
    "    #     if response == \"quit\":\n",
    "    #         print(\"Quitter\")\n",
    "    #         break\n",
    "        \n",
    "        \n",
    "    \n",
    "\n",
    "\n",
    "\n",
    "\n",
    "\n",
    "\n",
    "\n",
    "\n",
    "\n",
    "\n",
    "\n",
    "\n",
    "\n",
    " # while True:\n",
    " #        response= input(\"What would like to do? Load/Unload/Change Driver/Check Seats/Admire Bus/Exit\").lower()\n",
    " #        if response == \"exit\":\n",
    " #            print(\"OH NO! There are still passengers to be picked up. Please don't leave them!\")\n",
    " #            break\n",
    " #        elif response == \"load\":\n",
    " #            mig_bus.load_passengers()\n",
    " #        elif response == \"unload\":\n",
    " #            mig_bus.unload_passengers()\n",
    " #        elif response == \"change driver\":\n",
    " #            mig_bus.change_driver()\n",
    " #        elif response == \"check seats\":\n",
    " #            mig_bus.check_seats()\n",
    " #        elif response == \"admire bus\":\n",
    " #            mig_bus.admire_bus()\n",
    " #        else:\n",
    " #            print(\"Please enter a valid, bus-related response\")\n",
    "    \n",
    "\n",
    "#have to come back to this. Lots of fun but lots of repititve coding. Not even sure if it's right. Feel like I am doing way too much \n",
    "\n",
    "pick_your_character()\n",
    "\n"
   ]
  },
  {
   "cell_type": "code",
   "execution_count": null,
   "metadata": {},
   "outputs": [],
   "source": []
  },
  {
   "cell_type": "markdown",
   "metadata": {},
   "source": [
    "### Exercise 2 - Write a Python class which has two methods get_String and print_String. get_String accept a string from the user and print_String print the string in upper case"
   ]
  },
  {
   "cell_type": "code",
   "execution_count": 4,
   "metadata": {},
   "outputs": [],
   "source": [
    "class Blah: #brain is too fried from ^. Yeah that up there. \n",
    "    def __init__(self):\n",
    "        self.miguel_string= \"\"\n",
    "\n",
    "#2 methods get_string accepts from user so there has to be an \"input()\"\n",
    "\n",
    "    def get_String(self):\n",
    "        self.miguel_string = input(\"Write here.\")\n",
    "\n",
    "    def print_String(self):\n",
    "        print(\"Needs to be uppercase:\", self.miguel_string.upper())"
   ]
  },
  {
   "cell_type": "code",
   "execution_count": null,
   "metadata": {},
   "outputs": [],
   "source": []
  }
 ],
 "metadata": {
  "kernelspec": {
   "display_name": "Python 3 (ipykernel)",
   "language": "python",
   "name": "python3"
  },
  "language_info": {
   "codemirror_mode": {
    "name": "ipython",
    "version": 3
   },
   "file_extension": ".py",
   "mimetype": "text/x-python",
   "name": "python",
   "nbconvert_exporter": "python",
   "pygments_lexer": "ipython3",
   "version": "3.11.5"
  }
 },
 "nbformat": 4,
 "nbformat_minor": 4
}
